{
 "cells": [
  {
   "cell_type": "markdown",
   "id": "8540dcc7-b0d6-4360-90d6-276bb8de503d",
   "metadata": {},
   "source": [
    "<h3 style=\"text-align:center; font-size:36px; color:black; font-weight:bold\"> Default Credit Score Case</h3>\n",
    "<h3 style=\"text-align:center; font-size:26px; color:black\">Predictive Analytics</h3>"
   ]
  },
  {
   "cell_type": "markdown",
   "id": "3ff38bda-c4af-499f-a463-f7e50d678f35",
   "metadata": {},
   "source": [
    "---"
   ]
  },
  {
   "cell_type": "markdown",
   "id": "a60699c5-714b-4d28-9c36-97ae6a33d48c",
   "metadata": {},
   "source": [
    "Previously in *Analytics.ipynb* we performed a logistic regression analysis in order to understand the business problem and  the profile of clients in default. Now our objective is to make a predictive model to classify a set of unclissified clients into default and non default in order to start a publicitary campaing to offer some baking products such as credit cards, loans and etc.\n",
    "\n",
    "A set of predictive models will be trained and the best one will be chosen."
   ]
  },
  {
   "cell_type": "markdown",
   "id": "c33aabca-0bd0-4efa-92f1-e30a8227b2c1",
   "metadata": {},
   "source": [
    "---"
   ]
  },
  {
   "cell_type": "markdown",
   "id": "2ffe4e75-866a-4eaa-b338-76d1086cffde",
   "metadata": {},
   "source": [
    "# 1. Loading Required Libraries"
   ]
  },
  {
   "cell_type": "code",
   "execution_count": 13,
   "id": "a7c28ba3-8fed-48d5-a714-ca099f40d063",
   "metadata": {},
   "outputs": [],
   "source": [
    "import os as os\n",
    "import numpy as np\n",
    "import pandas as pd\n",
    "\n",
    "from sklearn.ensemble import RandomForestClassifier, VotingClassifier, GradientBoostingClassifier\n",
    "from sklearn.linear_model import LogisticRegression\n",
    "from sklearn.metrics import accuracy_score, classification_report, roc_auc_score, confusion_matrix\n",
    "from sklearn.metrics import log_loss, RocCurveDisplay, PrecisionRecallDisplay, confusion_matrix, recall_score\n",
    "from sklearn.model_selection import train_test_split\n",
    "from imblearn.over_sampling import SMOTE\n",
    "from scipy import stats\n",
    "\n",
    "import matplotlib.pyplot as plt\n",
    "import seaborn as sns"
   ]
  },
  {
   "cell_type": "markdown",
   "id": "df3bf4b0-28e3-40f9-8210-d9f842e9fd25",
   "metadata": {},
   "source": [
    "---"
   ]
  },
  {
   "cell_type": "markdown",
   "id": "d9d4f3e2-9498-49c3-b5e7-b76e2201a88e",
   "metadata": {},
   "source": [
    "# 2. Loading the training database"
   ]
  },
  {
   "cell_type": "code",
   "execution_count": 2,
   "id": "ceefbe4a-49f8-4bb4-bb9b-5a2f0133f5fe",
   "metadata": {},
   "outputs": [
    {
     "name": "stdout",
     "output_type": "stream",
     "text": [
      " data frame: data\\processed_dataframe.csv read\n"
     ]
    }
   ],
   "source": [
    "file = os.path.join('data','processed_dataframe.csv')\n",
    "try:\n",
    "    df = pd.read_csv(file)\n",
    "    print(f' data frame: {file} read')\n",
    "except:\n",
    "    print(f'error in loading dataframe, verify the path or file {file}')"
   ]
  },
  {
   "cell_type": "markdown",
   "id": "5cad49e2-c7d3-4498-924c-c15656137dcc",
   "metadata": {},
   "source": [
    "---"
   ]
  },
  {
   "cell_type": "markdown",
   "id": "af144fcc-5424-4779-bb24-deb61b1c3085",
   "metadata": {},
   "source": [
    "# 3. Splitting the data set into trainig and testing data sets"
   ]
  },
  {
   "cell_type": "markdown",
   "id": "8339bd74-3807-4afd-9387-09b065486996",
   "metadata": {},
   "source": [
    "As shown in previous analysis (see *EDA.ipynb* and *Analytics.ipynb*) the target class (Default clients) represent only about 5% of the total of clients. So, to lead with this imbalance we will use SMOTE algorithm to overcome the class imbalance."
   ]
  },
  {
   "cell_type": "markdown",
   "id": "89ad7c39-c8c4-4799-8460-bc1a4eda3a4b",
   "metadata": {},
   "source": [
    "## 3.1. Splitting the data into training and testing sets"
   ]
  },
  {
   "cell_type": "markdown",
   "id": "1a1fb102-750b-4dcd-9c53-d150948a26c5",
   "metadata": {},
   "source": [
    "We will divide the sets in the proportion, training set: 80% and testing set: 20%."
   ]
  },
  {
   "cell_type": "code",
   "execution_count": 3,
   "id": "01d6d13a-0fa1-465a-87d7-db131e0b015a",
   "metadata": {},
   "outputs": [],
   "source": [
    "# Getting features and target\n",
    "X = df[['UIS','age','RDW','MW','NTD3059','NTD6089','NTDGT90','NB','ND','OCL']]\n",
    "y = np.array(df[['Default']])\n",
    "\n",
    "# Split the data into training and testing sets\n",
    "X_train, X_test, y_train, y_test = train_test_split(X, y, test_size=0.2, random_state=92)"
   ]
  },
  {
   "cell_type": "markdown",
   "id": "849d41c1-d769-4c72-a420-8580de529548",
   "metadata": {},
   "source": [
    "## 3.2. Verifying proportion of target in training and testing sets"
   ]
  },
  {
   "cell_type": "code",
   "execution_count": 4,
   "id": "5867db12-544a-4091-b1e3-b4ad53acb33c",
   "metadata": {},
   "outputs": [
    {
     "name": "stdout",
     "output_type": "stream",
     "text": [
      "--------------------------------------------------------------\n",
      "Proportion of Default target in training set: 0.058\n",
      "Proportion of Default target in testing set : 0.059\n",
      "--------------------------------------------------------------\n"
     ]
    }
   ],
   "source": [
    "print('--------------------------------------------------------------')\n",
    "print(f'Proportion of Default target in training set: {round(y_train.mean(),3)}')\n",
    "print(f'Proportion of Default target in testing set : {round(y_test.mean(),3)}')\n",
    "print('--------------------------------------------------------------')"
   ]
  },
  {
   "cell_type": "markdown",
   "id": "7e9cfb77-c48c-4eed-bd6e-57f1cb284dfa",
   "metadata": {},
   "source": [
    "As we can see both the training and testing sets have proportions of default near each other, this is just a verification of the sampling process."
   ]
  },
  {
   "cell_type": "markdown",
   "id": "f692555f-fe79-4b11-8bab-eb9a0d1cb391",
   "metadata": {},
   "source": [
    "## 3.3. SMOTE resampling "
   ]
  },
  {
   "cell_type": "markdown",
   "id": "61848ad7-4207-465e-92fd-476423020140",
   "metadata": {},
   "source": [
    "To overcome the class imbalance, we will use SMOTE oversampling (it oversamples the less proportional target category) technique to balance both classes in training set."
   ]
  },
  {
   "cell_type": "code",
   "execution_count": 5,
   "id": "12bb1938-82db-4c36-b53d-4a7d7fc97d57",
   "metadata": {},
   "outputs": [
    {
     "name": "stdout",
     "output_type": "stream",
     "text": [
      "--------------------------------------------------------------\n",
      "Proportion of Default target in training set atfer SMOTE: 0.5\n",
      "--------------------------------------------------------------\n"
     ]
    }
   ],
   "source": [
    "# Apply SMOTE to the training set\n",
    "\n",
    "smote = SMOTE(sampling_strategy = 'not majority', random_state=102)\n",
    "X_train_resampled, y_train_resampled = smote.fit_resample(X_train, y_train)\n",
    "\n",
    "print('--------------------------------------------------------------')\n",
    "print(f'Proportion of Default target in training set atfer SMOTE: {round(y_train_resampled.mean(),3)}')\n",
    "print('--------------------------------------------------------------')"
   ]
  },
  {
   "cell_type": "markdown",
   "id": "c8b8d857-6e8b-475a-aa97-60b9591dcaac",
   "metadata": {},
   "source": [
    "---"
   ]
  },
  {
   "cell_type": "markdown",
   "id": "a8b86d98-2677-4db8-9662-20dd7eaff893",
   "metadata": {},
   "source": [
    "# 4. Model Random Forest Classifier"
   ]
  },
  {
   "cell_type": "markdown",
   "id": "d29907fc-e482-450a-999d-a7279e4ce327",
   "metadata": {},
   "source": [
    "None data transformation is necessary to be applied in this model, the only thing that it is needed to be assumed is independece among observations, once our study is a snapshot of the database, i.e. data sampled at a given timestamp, the constraint of independence is satisfied."
   ]
  },
  {
   "cell_type": "markdown",
   "id": "d25a8ebe-13dc-4975-9450-192e72136cf0",
   "metadata": {},
   "source": [
    "## 4.1. Model Tuning"
   ]
  },
  {
   "cell_type": "markdown",
   "id": "c5ef473c-7435-4b18-8765-6e99f5aa6dcb",
   "metadata": {},
   "source": [
    "Following *Hastie, Tibshrany and Friedman*, for classificaton problems it is advised that the depths of the trees have a maximum depth around the square root of the number of covariates or features (10), rounding square root of 10, we choose 4 as the max_depth hyperparameter.\n",
    "\n",
    "Another hyperparameter is the number of estimators or number of trees in the forest that we will be tune."
   ]
  },
  {
   "cell_type": "code",
   "execution_count": 6,
   "id": "ddb45419-cbd1-400e-8fbf-e051a922f88e",
   "metadata": {},
   "outputs": [
    {
     "name": "stdout",
     "output_type": "stream",
     "text": [
      "Wall time: 3min 12s\n"
     ]
    }
   ],
   "source": [
    "%%time\n",
    "\n",
    "# Random Forest Model\n",
    "rf_model = RandomForestClassifier(max_depth = 4, bootstrap=True, oob_score=False,  \n",
    "                                  n_jobs = -1, random_state=0, warm_start = True)\n",
    "\n",
    "# Training various models to get the best number of trees or estimators\n",
    "cross_entropy_loss = []\n",
    "for n_estimator in range(1,500):\n",
    "    rf_model.n_estimators = n_estimator\n",
    "    rf_model.fit( X_train_resampled, y_train_resampled )\n",
    "    y_pred = rf_model.predict(X_test)\n",
    "    cross_entropy_loss += [log_loss(y_test, y_pred)]"
   ]
  },
  {
   "cell_type": "code",
   "execution_count": 7,
   "id": "9806e461-7fba-482a-8fd5-4fd56f880666",
   "metadata": {},
   "outputs": [
    {
     "data": {
      "image/png": "[encoded data removed]",
      "text/plain": [
       "<Figure size 792x360 with 1 Axes>"
      ]
     },
     "metadata": {
      "needs_background": "light"
     },
     "output_type": "display_data"
    }
   ],
   "source": [
    "fig = plt.figure(figsize=(11, 5))\n",
    "sns.scatterplot(x=range(1,500), y=cross_entropy_loss)\n",
    "plt.axhline(y = np.min(cross_entropy_loss[100:]), color='red')\n",
    "plt.xlabel('Number of trees', size=14)\n",
    "plt.ylabel('cross entropy', size=14)\n",
    "plt.show()"
   ]
  },
  {
   "cell_type": "markdown",
   "id": "a0a5068e-7e5f-49c4-9947-2bcd465db178",
   "metadata": {},
   "source": [
    "A curve representing the number of trees and the cross entropy is presented above. We can see a convergence of the cross entropy after about 400 trees, so we will tune the number of estimators of the Randon Forest algorithm as 400 trees"
   ]
  },
  {
   "cell_type": "markdown",
   "id": "0a28db64-2a39-462a-9254-d3e99e244c5b",
   "metadata": {},
   "source": [
    "## 4.2. Model Training"
   ]
  },
  {
   "cell_type": "code",
   "execution_count": 8,
   "id": "f149d659-4e92-4074-905d-575e44caada4",
   "metadata": {},
   "outputs": [],
   "source": [
    "# Random Forest Model\n",
    "rf_model = RandomForestClassifier(n_estimators = 400, max_depth = 4, bootstrap=True, \n",
    "                                  oob_score=False, n_jobs = -1, random_state=0)\n",
    "\n",
    "# Training the Model\n",
    "rf_model.fit( X_train_resampled, y_train_resampled )\n",
    "\n",
    "# Evaluating the testing set\n",
    "y_pred_proba = rf_model.predict_proba(X_test)\n",
    "y_pred = rf_model.predict(X_test)"
   ]
  },
  {
   "cell_type": "markdown",
   "id": "b6ea1634-d6a1-409f-bf70-af2ade712e8f",
   "metadata": {},
   "source": [
    "### ROC curve & AUC statistic"
   ]
  },
  {
   "cell_type": "code",
   "execution_count": 9,
   "id": "09b9ccde-865d-4c04-b6b0-294e0120eb05",
   "metadata": {},
   "outputs": [
    {
     "data": {
      "text/plain": [
       "Text(0.5, 1.0, 'Testing Set')"
      ]
     },
     "execution_count": 9,
     "metadata": {},
     "output_type": "execute_result"
    },
    {
     "data": {
      "image/png": "[encoded data removed]",
      "text/plain": [
       "<Figure size 864x360 with 2 Axes>"
      ]
     },
     "metadata": {
      "needs_background": "light"
     },
     "output_type": "display_data"
    }
   ],
   "source": [
    "fig, ax = plt.subplots(nrows=1, ncols=2, figsize=(12,5))\n",
    "\n",
    "RocCurveDisplay.from_estimator(rf_model, X_train_resampled, y_train_resampled, ax=ax[0])\n",
    "ax[0].set_title('Training Set', size=16)\n",
    "RocCurveDisplay.from_estimator(rf_model, X_test, y_test, ax=ax[1])\n",
    "ax[1].set_title('Testing Set', size=16)"
   ]
  },
  {
   "cell_type": "markdown",
   "id": "9e46744c-c847-485b-8de8-5eb224b63d46",
   "metadata": {},
   "source": [
    "The Receiver Operator Characteristic (ROC) curve is shown above for both the training and testing sets and their Area Under the Curve (AUC) statistic are 0.94 and 0.81, these values indicates that the model has a good performance."
   ]
  },
  {
   "cell_type": "code",
   "execution_count": 16,
   "id": "4134f0e7-bf71-43a7-a83c-7b7ac2f25db2",
   "metadata": {},
   "outputs": [
    {
     "name": "stdout",
     "output_type": "stream",
     "text": [
      "-------------------------------------\n",
      "Accuracy training set:   0.86\n",
      "Accuracy testing set:    0.87\n",
      "\n",
      "Recall training set:     0.84\n",
      "Recall testing set:      0.53\n",
      "-------------------------------------\n"
     ]
    }
   ],
   "source": [
    "acc_train= accuracy_score(y_train_resampled, rf_model.predict(X_train_resampled) )\n",
    "acc_test = accuracy_score(y_test, y_pred)\n",
    "\n",
    "rec_train = recall_score(y_train_resampled, rf_model.predict(X_train_resampled) )\n",
    "rec_test = recall_score(y_test, y_pred)\n",
    "\n",
    "print('-------------------------------------')\n",
    "print(f'Accuracy training set:   {acc_train.round(2)}')\n",
    "print(f'Accuracy testing set:    {acc_test.round(2)}')\n",
    "print('')\n",
    "print(f'Recall training set:     {rec_train.round(2)}')\n",
    "print(f'Recall testing set:      {rec_test.round(2)}')\n",
    "print('-------------------------------------')"
   ]
  },
  {
   "cell_type": "markdown",
   "id": "85b94be5-cb2d-46c6-bc8c-b039bc6d2dd8",
   "metadata": {},
   "source": [
    "Due to the low proportion of default clients in the testing set (a common characteristic of this kind of problem), the recall statistics in testing set is low, to get better classification, we need to tune the threshold (by default it is 0.5).\n",
    "\n",
    "Before this, let us look at the confusion matrices of training and testing sets"
   ]
  },
  {
   "cell_type": "markdown",
   "id": "078bab6c-145e-4002-bd4d-10811efd587a",
   "metadata": {},
   "source": [
    "### Confusion Matrix and Threshold"
   ]
  },
  {
   "cell_type": "code",
   "execution_count": 10,
   "id": "38f430f4-f018-446f-9c81-2d3520efff3f",
   "metadata": {},
   "outputs": [
    {
     "name": "stdout",
     "output_type": "stream",
     "text": [
      "Training Set, Threshold>0.5\n",
      "       0      1\n",
      "0  50800   6397\n",
      "1   9314  47883\n",
      "\n",
      "Testing Set, Threshold>0.5\n",
      "       0     1\n",
      "0  12747  1539\n",
      "1    417   478\n"
     ]
    }
   ],
   "source": [
    "print('Training Set, Threshold>0.5')\n",
    "print( pd.DataFrame(confusion_matrix(y_train_resampled, rf_model.predict(X_train_resampled))) )\n",
    "9\n",
    "print('\\nTesting Set, Threshold>0.5')\n",
    "print( pd.DataFrame(confusion_matrix(y_test, y_pred)) )"
   ]
  },
  {
   "cell_type": "markdown",
   "id": "fdea2c78-37f3-46e9-9a1a-97c479c43be5",
   "metadata": {},
   "source": [
    "As we can see, for the testing set, the confusion matrix for the target 1, presents high false positive and true negative rates, to overcome this, we will try to find an optimal value satisfying the follwng function:\n",
    "\n",
    "<center> L = 3&times;TPR + 1&times;TNR - 3&times;FPR - 1&times;FNR </center>\n",
    "<br>\n",
    "wherein false positive rate and false negative rate have penalization 3 and 1 respectively."
   ]
  },
  {
   "cell_type": "code",
   "execution_count": 61,
   "id": "8d6483c2-351b-4492-ac30-5dee7178ac36",
   "metadata": {},
   "outputs": [
    {
     "data": {
      "image/png": "[encoded data removed]",
      "text/plain": [
       "<Figure size 288x288 with 1 Axes>"
      ]
     },
     "metadata": {
      "needs_background": "light"
     },
     "output_type": "display_data"
    }
   ],
   "source": [
    "y_trg = np.array([y[1] for y in y_pred_proba])\n",
    "thresholds = np.linspace(0.1,0.9,16)\n",
    "\n",
    "L = []\n",
    "for threshold in thresholds:\n",
    "    y_score = np.where(np.array(y_trg) > threshold, 1, 0).astype(int)\n",
    "    conf_matrix = confusion_matrix(y_test, y_score)\n",
    "    TP, TN = conf_matrix[1,1], conf_matrix[0,0]\n",
    "    FP, FN = conf_matrix[0,1], conf_matrix[1,0]\n",
    "\n",
    "    FPR, FNR, TPR, TNR = FP/(TN+FP), FN/(FN+TP), TP/(FN+TP), TN/(TN+FP)\n",
    "    L += [3*TPR+1*TNR-3*FPR-1*FNR]\n",
    "    \n",
    "plt.figure(figsize = (4,4))\n",
    "sns.scatterplot(x = thresholds, y = L)\n",
    "plt.xlabel('Threshold',size=16)\n",
    "plt.ylabel('L',size=16)\n",
    "plt.show()"
   ]
  },
  {
   "cell_type": "markdown",
   "id": "7642fe90-d35e-4f21-bce2-5fa443a8b7c4",
   "metadata": {},
   "source": [
    "As we can see, the value that maximizes the function L is, 0.4. So clients classified with values above 0.4, will be considered as default and bellow, non default."
   ]
  },
  {
   "cell_type": "code",
   "execution_count": 65,
   "id": "e9b9ef0f-02e2-4f2f-ba14-e9fc1511dfec",
   "metadata": {},
   "outputs": [
    {
     "name": "stdout",
     "output_type": "stream",
     "text": [
      "-------------------------------------\n",
      "Accuracy testing set thresh>0.4: 0.86\n",
      "Recall testing set thresh>0.4:   0.64\n",
      "-------------------------------------\n",
      "\n"
     ]
    },
    {
     "data": {
      "text/html": [
       "<div>\n",
       "<style scoped>\n",
       "    .dataframe tbody tr th:only-of-type {\n",
       "        vertical-align: middle;\n",
       "    }\n",
       "\n",
       "    .dataframe tbody tr th {\n",
       "        vertical-align: top;\n",
       "    }\n",
       "\n",
       "    .dataframe thead th {\n",
       "        text-align: right;\n",
       "    }\n",
       "</style>\n",
       "<table border=\"1\" class=\"dataframe\">\n",
       "  <thead>\n",
       "    <tr style=\"text-align: right;\">\n",
       "      <th></th>\n",
       "      <th>0</th>\n",
       "      <th>1</th>\n",
       "    </tr>\n",
       "  </thead>\n",
       "  <tbody>\n",
       "    <tr>\n",
       "      <th>0</th>\n",
       "      <td>11779</td>\n",
       "      <td>2507</td>\n",
       "    </tr>\n",
       "    <tr>\n",
       "      <th>1</th>\n",
       "      <td>322</td>\n",
       "      <td>573</td>\n",
       "    </tr>\n",
       "  </tbody>\n",
       "</table>\n",
       "</div>"
      ],
      "text/plain": [
       "       0     1\n",
       "0  11779  2507\n",
       "1    322   573"
      ]
     },
     "execution_count": 65,
     "metadata": {},
     "output_type": "execute_result"
    }
   ],
   "source": [
    "y_score = np.where(np.array(y_trg) > thresholds[5], 1, 0).astype(int)\n",
    "\n",
    "acc_test = accuracy_score(y_test, y_score)\n",
    "rec_test = recall_score(y_test, y_score)\n",
    "\n",
    "print('-------------------------------------')\n",
    "print(f'Accuracy testing set thresh>0.4: {acc_train.round(2)}')\n",
    "print(f'Recall testing set thresh>0.4:   {rec_test.round(2)}')\n",
    "print('-------------------------------------')\n",
    "print('')\n",
    "\n",
    "conf_matrix = confusion_matrix(y_test, y_score)\n",
    "pd.DataFrame(conf_matrix)"
   ]
  },
  {
   "cell_type": "markdown",
   "id": "00e7bb26-f92c-407a-a73e-5dd0b47b237d",
   "metadata": {},
   "source": [
    "Above is shown the metrics and the confusion matrix after using the indicated threshold"
   ]
  },
  {
   "cell_type": "markdown",
   "id": "f2a1899e-05c9-438a-a52f-49ffebaa3732",
   "metadata": {},
   "source": [
    "## 4.3. Variable Importance"
   ]
  },
  {
   "cell_type": "code",
   "execution_count": 93,
   "id": "556cc67e-0a2b-428b-8765-701de80ad097",
   "metadata": {},
   "outputs": [
    {
     "data": {
      "image/png": "[encoded data removed]",
      "text/plain": [
       "<Figure size 216x288 with 1 Axes>"
      ]
     },
     "metadata": {
      "needs_background": "light"
     },
     "output_type": "display_data"
    }
   ],
   "source": [
    "importance_features = pd.DataFrame.from_dict({'name':df.columns[1:], 'importance':rf_model.feature_importances_} )\n",
    "importance_features.sort_values(by = 'importance', ascending=False)\n",
    "fig = plt.figure(figsize = (3,4))\n",
    "sns.barplot(data=importance_features.sort_values(by = 'importance', ascending=False), x='importance', y='name' )\n",
    "plt.xlabel('feature importance')\n",
    "plt.show()"
   ]
  },
  {
   "cell_type": "markdown",
   "id": "1fff3359-2429-4241-9283-78ab09935620",
   "metadata": {},
   "source": [
    "A figure showing the feature importance is shown above. We can see that the most important variable in modeling is the MW (Monthly Wage), followed by NTDGT90 (Number of previous defaults above 90 days), OCL (OpenCredit Lines), UIS (Utilization of Insecure Credit Lines) and etc. "
   ]
  },
  {
   "cell_type": "markdown",
   "id": "1e93e3fa-a9a2-4cf5-8a8c-97e90960b1cb",
   "metadata": {},
   "source": [
    "---"
   ]
  },
  {
   "cell_type": "markdown",
   "id": "4c1fd27a-7fe5-4a60-b73c-f2f9c6ecac19",
   "metadata": {},
   "source": [
    "# 5. Conclusion"
   ]
  },
  {
   "cell_type": "markdown",
   "id": "eb8e578b-ceca-4265-9cf8-74c39245a7cd",
   "metadata": {},
   "source": [
    "* Random Forest Model with 400 trees with max depth of 4 levels was trained with a data set composed by 10 features;\n",
    "\n",
    "* The training/testing data sets were divided in the proportion 0.8:0.2 respectively and SMOTE oversampling was applied in the less representative target class;\n",
    "\n",
    "* The best threshold to classify default and non default clients was based in a business rule.\n",
    "\n",
    "* The accuracy and recall metrics of the trained model in testing set are 0.86 and 0.64 respectively. Considering the proportion of defaults of 0.05, we can consider these metrics as fair.\n",
    "\n",
    "* The most important features are the monthly wage, number of open credit lines and number of previous default greater than 90 days."
   ]
  }
 ],
 "metadata": {
  "kernelspec": {
   "display_name": "Python 3 (ipykernel)",
   "language": "python",
   "name": "python3"
  },
  "language_info": {
   "codemirror_mode": {
    "name": "ipython",
    "version": 3
   },
   "file_extension": ".py",
   "mimetype": "text/x-python",
   "name": "python",
   "nbconvert_exporter": "python",
   "pygments_lexer": "ipython3",
   "version": "3.9.7"
  }
 },
 "nbformat": 4,
 "nbformat_minor": 5
}
