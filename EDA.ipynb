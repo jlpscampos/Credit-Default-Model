{
 "cells": [
  {
   "cell_type": "markdown",
   "id": "620a38ea-2e3a-4502-8de4-6dfb444bf003",
   "metadata": {},
   "source": [
    "<h3 style=\"text-align:center; font-size:36px; color:black; font-weight:bold\"> Default Credit Score Case</h3>\n",
    "<h3 style=\"text-align:center; font-size:26px; color:black\">Exploratory Data Analysis</h3>"
   ]
  },
  {
   "cell_type": "markdown",
   "id": "84eba3d6-5b17-4170-8943-475d46bce7ed",
   "metadata": {},
   "source": [
    "---"
   ]
  },
  {
   "cell_type": "markdown",
   "id": "5d9dec41-33dc-49fa-acd8-2493b9f857aa",
   "metadata": {},
   "source": [
    "Score credit card models compute the probability of default and are one of the main tools assessed by many companies to grant or deny credit. The objective of this analysis isto prepare the data to be used in a predictive model "
   ]
  },
  {
   "cell_type": "markdown",
   "id": "221143cb-0dd1-4539-bf5c-2e3e533b1a29",
   "metadata": {},
   "source": [
    "---"
   ]
  },
  {
   "cell_type": "markdown",
   "id": "7ffaaf81-8781-4adf-88d1-06b9bdf9055b",
   "metadata": {},
   "source": [
    "# 1. Importing libraries"
   ]
  },
  {
   "cell_type": "code",
   "execution_count": 1,
   "id": "1daf950a-6f90-419d-b57b-6b0b5c6be33c",
   "metadata": {},
   "outputs": [],
   "source": [
    "import os as os\n",
    "import numpy as np\n",
    "import pandas as pd\n",
    "import matplotlib.pyplot as plt\n",
    "import seaborn as sns"
   ]
  },
  {
   "cell_type": "markdown",
   "id": "3b990663-3cb4-4d57-9558-8a7e2de1779d",
   "metadata": {},
   "source": [
    "---"
   ]
  },
  {
   "cell_type": "markdown",
   "id": "b241dead-4a8f-4150-86b5-0eb8664a2842",
   "metadata": {},
   "source": [
    "# 2. Univariate Descriptive Analysis"
   ]
  },
  {
   "cell_type": "markdown",
   "id": "a31b2b82-0502-4e97-8d10-d6ca8cd7f180",
   "metadata": {},
   "source": [
    "The database consist of a set of 11 variables, wherein, the variable called \"Default\" represents the varible target or dependent variable and the others are the independent variable.\n",
    "\n",
    "A brief description of each variable or column are described in table bellow:\n",
    "\n",
    "| Variable Long Name | Variable Short Name | Type | Description |\n",
    "|---|---|---|---|\n",
    "| Default | **Default** | Categorical | whether client is in default 1, otherwise 0 |\n",
    "| Utilization of Insecure Credit Lines | **UIL** | Continuous | Credit Risk (0-1) |\n",
    "| Age | **age** | Continuous | Client's age |\n",
    "| Debt ratio | **RDW** | Continuous | Ratio between Debt and Assets |\n",
    "| Monthly Wage | **MW** | Continuous | Monthly Wage |\n",
    "| Default 30-59 | **NTD3059** | Categorical Ordinal | Number of times wherein the client was in default from 30 to 59 days |\n",
    "| Default 60-89 | **NTD6090** | Categorical Ordinal | Number of times wherein the client was in default from 60 to 89 days |\n",
    "| Default 90 | **NTDGT90** | Categorical Ordinal |Number of times wherein the client was in default greater or equal than 90 days |\n",
    "| Numbers of loans | **NB** | Categorical Ordinal | Current number of real state loans |\n",
    "| Number of dependents | **ND** | Categorical Ordinal | Current Number of dependents on income tax |\n",
    "| Open Credit Lines | **OCL** | Categorical Ordinal | Number of open credit lines |"
   ]
  },
  {
   "cell_type": "markdown",
   "id": "3d77d1d4-832c-4015-9de5-71aa7b5b630f",
   "metadata": {},
   "source": [
    "## 2.1. Reading the Data"
   ]
  },
  {
   "cell_type": "code",
   "execution_count": 2,
   "id": "fbb953a2-1f44-46d1-b9a7-0f7f1b196a24",
   "metadata": {},
   "outputs": [
    {
     "data": {
      "text/html": [
       "<div>\n",
       "<style scoped>\n",
       "    .dataframe tbody tr th:only-of-type {\n",
       "        vertical-align: middle;\n",
       "    }\n",
       "\n",
       "    .dataframe tbody tr th {\n",
       "        vertical-align: top;\n",
       "    }\n",
       "\n",
       "    .dataframe thead th {\n",
       "        text-align: right;\n",
       "    }\n",
       "</style>\n",
       "<table border=\"1\" class=\"dataframe\">\n",
       "  <thead>\n",
       "    <tr style=\"text-align: right;\">\n",
       "      <th></th>\n",
       "      <th>Default</th>\n",
       "      <th>UIS</th>\n",
       "      <th>age</th>\n",
       "      <th>NTD3059</th>\n",
       "      <th>RDW</th>\n",
       "      <th>MW</th>\n",
       "      <th>OCL</th>\n",
       "      <th>NTDGT90</th>\n",
       "      <th>NB</th>\n",
       "      <th>NTD6089</th>\n",
       "      <th>ND</th>\n",
       "    </tr>\n",
       "  </thead>\n",
       "  <tbody>\n",
       "    <tr>\n",
       "      <th>0</th>\n",
       "      <td>1</td>\n",
       "      <td>0.766127</td>\n",
       "      <td>45</td>\n",
       "      <td>2</td>\n",
       "      <td>0.802982</td>\n",
       "      <td>9120.0</td>\n",
       "      <td>13</td>\n",
       "      <td>0</td>\n",
       "      <td>6</td>\n",
       "      <td>0</td>\n",
       "      <td>2.0</td>\n",
       "    </tr>\n",
       "    <tr>\n",
       "      <th>1</th>\n",
       "      <td>0</td>\n",
       "      <td>0.957151</td>\n",
       "      <td>40</td>\n",
       "      <td>0</td>\n",
       "      <td>0.121876</td>\n",
       "      <td>2600.0</td>\n",
       "      <td>4</td>\n",
       "      <td>0</td>\n",
       "      <td>0</td>\n",
       "      <td>0</td>\n",
       "      <td>1.0</td>\n",
       "    </tr>\n",
       "    <tr>\n",
       "      <th>2</th>\n",
       "      <td>0</td>\n",
       "      <td>0.658180</td>\n",
       "      <td>38</td>\n",
       "      <td>1</td>\n",
       "      <td>0.085113</td>\n",
       "      <td>3042.0</td>\n",
       "      <td>2</td>\n",
       "      <td>1</td>\n",
       "      <td>0</td>\n",
       "      <td>0</td>\n",
       "      <td>0.0</td>\n",
       "    </tr>\n",
       "    <tr>\n",
       "      <th>3</th>\n",
       "      <td>0</td>\n",
       "      <td>0.233810</td>\n",
       "      <td>30</td>\n",
       "      <td>0</td>\n",
       "      <td>0.036050</td>\n",
       "      <td>3300.0</td>\n",
       "      <td>5</td>\n",
       "      <td>0</td>\n",
       "      <td>0</td>\n",
       "      <td>0</td>\n",
       "      <td>0.0</td>\n",
       "    </tr>\n",
       "    <tr>\n",
       "      <th>4</th>\n",
       "      <td>0</td>\n",
       "      <td>0.907239</td>\n",
       "      <td>49</td>\n",
       "      <td>1</td>\n",
       "      <td>0.024926</td>\n",
       "      <td>63588.0</td>\n",
       "      <td>7</td>\n",
       "      <td>0</td>\n",
       "      <td>1</td>\n",
       "      <td>0</td>\n",
       "      <td>0.0</td>\n",
       "    </tr>\n",
       "  </tbody>\n",
       "</table>\n",
       "</div>"
      ],
      "text/plain": [
       "   Default       UIS  age NTD3059       RDW       MW OCL NTDGT90 NB NTD6089  \\\n",
       "0        1  0.766127   45       2  0.802982   9120.0  13       0  6       0   \n",
       "1        0  0.957151   40       0  0.121876   2600.0   4       0  0       0   \n",
       "2        0  0.658180   38       1  0.085113   3042.0   2       1  0       0   \n",
       "3        0  0.233810   30       0  0.036050   3300.0   5       0  0       0   \n",
       "4        0  0.907239   49       1  0.024926  63588.0   7       0  1       0   \n",
       "\n",
       "    ND  \n",
       "0  2.0  \n",
       "1  1.0  \n",
       "2  0.0  \n",
       "3  0.0  \n",
       "4  0.0  "
      ]
     },
     "execution_count": 2,
     "metadata": {},
     "output_type": "execute_result"
    }
   ],
   "source": [
    "# Reading file from disk\n",
    "file = os.path.join('data','training_data.csv')\n",
    "df = pd.read_csv(file)\n",
    "\n",
    "# Proper Column Categorization\n",
    "# In order to produce figures it is better to deal with ordinal data as categories\n",
    "categorical = ['NTD3059','NTD6089','NTDGT90','NB','ND','OCL']\n",
    "df = df.assign(**{col: df[col].astype('category') for col in categorical})\n",
    "\n",
    "df.head(5)"
   ]
  },
  {
   "cell_type": "markdown",
   "id": "4980c535-e738-4e56-b027-dc8a6c764424",
   "metadata": {},
   "source": [
    "## 2.2. Univariate Distributions and Outliers"
   ]
  },
  {
   "cell_type": "markdown",
   "id": "79421760-585c-4e10-a3b3-62e36a93e27b",
   "metadata": {},
   "source": [
    "### 2.2.1. Proportions of Nulls "
   ]
  },
  {
   "cell_type": "code",
   "execution_count": 3,
   "id": "f6338f68-364a-4803-8b6e-5bf27ebf1da0",
   "metadata": {},
   "outputs": [
    {
     "data": {
      "text/html": [
       "<div>\n",
       "<style scoped>\n",
       "    .dataframe tbody tr th:only-of-type {\n",
       "        vertical-align: middle;\n",
       "    }\n",
       "\n",
       "    .dataframe tbody tr th {\n",
       "        vertical-align: top;\n",
       "    }\n",
       "\n",
       "    .dataframe thead th {\n",
       "        text-align: right;\n",
       "    }\n",
       "</style>\n",
       "<table border=\"1\" class=\"dataframe\">\n",
       "  <thead>\n",
       "    <tr style=\"text-align: right;\">\n",
       "      <th></th>\n",
       "      <th>Default</th>\n",
       "      <th>UIS</th>\n",
       "      <th>age</th>\n",
       "      <th>NTD3059</th>\n",
       "      <th>RDW</th>\n",
       "      <th>MW</th>\n",
       "      <th>OCL</th>\n",
       "      <th>NTDGT90</th>\n",
       "      <th>NB</th>\n",
       "      <th>NTD6089</th>\n",
       "      <th>ND</th>\n",
       "    </tr>\n",
       "  </thead>\n",
       "  <tbody>\n",
       "    <tr>\n",
       "      <th>0</th>\n",
       "      <td>0.0</td>\n",
       "      <td>0.0</td>\n",
       "      <td>0.0</td>\n",
       "      <td>0.0</td>\n",
       "      <td>0.0</td>\n",
       "      <td>0.197845</td>\n",
       "      <td>0.0</td>\n",
       "      <td>0.0</td>\n",
       "      <td>0.0</td>\n",
       "      <td>0.0</td>\n",
       "      <td>0.026164</td>\n",
       "    </tr>\n",
       "  </tbody>\n",
       "</table>\n",
       "</div>"
      ],
      "text/plain": [
       "   Default  UIS  age  NTD3059  RDW        MW  OCL  NTDGT90   NB  NTD6089  \\\n",
       "0      0.0  0.0  0.0      0.0  0.0  0.197845  0.0      0.0  0.0      0.0   \n",
       "\n",
       "         ND  \n",
       "0  0.026164  "
      ]
     },
     "execution_count": 3,
     "metadata": {},
     "output_type": "execute_result"
    }
   ],
   "source": [
    "null_prop = df.isnull().mean()\n",
    "pd.DataFrame(null_prop).transpose()"
   ]
  },
  {
   "cell_type": "markdown",
   "id": "535c5ac2-92c8-4647-b24d-0354eebc1087",
   "metadata": {},
   "source": [
    "As we can see the variables MW (Monthly Wage) and ND (Number of Dependants) have the following proportion of nulls, \n",
    "20% and 3% respectively."
   ]
  },
  {
   "cell_type": "markdown",
   "id": "705d76aa-a00b-498f-8bf9-1f4cbdbf8030",
   "metadata": {},
   "source": [
    "### 2.2.2. Continuous Variables"
   ]
  },
  {
   "cell_type": "code",
   "execution_count": 4,
   "id": "61e63ef3-accc-4573-a4bd-3a9ac6f3d543",
   "metadata": {},
   "outputs": [
    {
     "data": {
      "text/html": [
       "<div>\n",
       "<style scoped>\n",
       "    .dataframe tbody tr th:only-of-type {\n",
       "        vertical-align: middle;\n",
       "    }\n",
       "\n",
       "    .dataframe tbody tr th {\n",
       "        vertical-align: top;\n",
       "    }\n",
       "\n",
       "    .dataframe thead th {\n",
       "        text-align: right;\n",
       "    }\n",
       "</style>\n",
       "<table border=\"1\" class=\"dataframe\">\n",
       "  <thead>\n",
       "    <tr style=\"text-align: right;\">\n",
       "      <th></th>\n",
       "      <th>UIS</th>\n",
       "      <th>age</th>\n",
       "      <th>RDW</th>\n",
       "      <th>MW</th>\n",
       "    </tr>\n",
       "  </thead>\n",
       "  <tbody>\n",
       "    <tr>\n",
       "      <th>count</th>\n",
       "      <td>110000.00</td>\n",
       "      <td>110000.00</td>\n",
       "      <td>110000.00</td>\n",
       "      <td>88237.00</td>\n",
       "    </tr>\n",
       "    <tr>\n",
       "      <th>mean</th>\n",
       "      <td>5.93</td>\n",
       "      <td>52.26</td>\n",
       "      <td>354.82</td>\n",
       "      <td>6637.41</td>\n",
       "    </tr>\n",
       "    <tr>\n",
       "      <th>std</th>\n",
       "      <td>252.30</td>\n",
       "      <td>14.77</td>\n",
       "      <td>2074.14</td>\n",
       "      <td>13383.95</td>\n",
       "    </tr>\n",
       "    <tr>\n",
       "      <th>min</th>\n",
       "      <td>0.00</td>\n",
       "      <td>0.00</td>\n",
       "      <td>0.00</td>\n",
       "      <td>0.00</td>\n",
       "    </tr>\n",
       "    <tr>\n",
       "      <th>5%</th>\n",
       "      <td>0.00</td>\n",
       "      <td>29.00</td>\n",
       "      <td>0.00</td>\n",
       "      <td>1300.00</td>\n",
       "    </tr>\n",
       "    <tr>\n",
       "      <th>25%</th>\n",
       "      <td>0.03</td>\n",
       "      <td>41.00</td>\n",
       "      <td>0.18</td>\n",
       "      <td>3400.00</td>\n",
       "    </tr>\n",
       "    <tr>\n",
       "      <th>50%</th>\n",
       "      <td>0.16</td>\n",
       "      <td>52.00</td>\n",
       "      <td>0.37</td>\n",
       "      <td>5400.00</td>\n",
       "    </tr>\n",
       "    <tr>\n",
       "      <th>75%</th>\n",
       "      <td>0.56</td>\n",
       "      <td>63.00</td>\n",
       "      <td>0.87</td>\n",
       "      <td>8225.00</td>\n",
       "    </tr>\n",
       "    <tr>\n",
       "      <th>95%</th>\n",
       "      <td>1.00</td>\n",
       "      <td>78.00</td>\n",
       "      <td>2464.05</td>\n",
       "      <td>14593.40</td>\n",
       "    </tr>\n",
       "    <tr>\n",
       "      <th>99%</th>\n",
       "      <td>1.09</td>\n",
       "      <td>87.00</td>\n",
       "      <td>5000.01</td>\n",
       "      <td>25000.00</td>\n",
       "    </tr>\n",
       "    <tr>\n",
       "      <th>max</th>\n",
       "      <td>50708.00</td>\n",
       "      <td>109.00</td>\n",
       "      <td>329664.00</td>\n",
       "      <td>3008750.00</td>\n",
       "    </tr>\n",
       "  </tbody>\n",
       "</table>\n",
       "</div>"
      ],
      "text/plain": [
       "             UIS        age        RDW          MW\n",
       "count  110000.00  110000.00  110000.00    88237.00\n",
       "mean        5.93      52.26     354.82     6637.41\n",
       "std       252.30      14.77    2074.14    13383.95\n",
       "min         0.00       0.00       0.00        0.00\n",
       "5%          0.00      29.00       0.00     1300.00\n",
       "25%         0.03      41.00       0.18     3400.00\n",
       "50%         0.16      52.00       0.37     5400.00\n",
       "75%         0.56      63.00       0.87     8225.00\n",
       "95%         1.00      78.00    2464.05    14593.40\n",
       "99%         1.09      87.00    5000.01    25000.00\n",
       "max     50708.00     109.00  329664.00  3008750.00"
      ]
     },
     "execution_count": 4,
     "metadata": {},
     "output_type": "execute_result"
    }
   ],
   "source": [
    "custom_quantiles = [ 0.05, 0.25, 0.75, 0.95, 0.99 ]\n",
    "df_describe = df[['UIS','age','RDW','MW']].describe(percentiles=custom_quantiles)\n",
    "df_describe.round(2)"
   ]
  },
  {
   "cell_type": "markdown",
   "id": "9a7ae925-12b6-4cdf-9c9a-f22e177a38e6",
   "metadata": {},
   "source": [
    "Above a summary containing the main resume measurements of continuous variables is presented. Comparing the median to the mean, we can see that UIS, RDW and MW variables are skilled toward lower values due to the mean be significantly greater than the median, while the age has the mean and the median (50%) nearer each other.\n",
    "\n",
    "Still in the above table, looking at the higher percentiles, for UIS column the 99th percentile is 1.00 while the maximum is a value above 50k, in this case it is evident the presence of outliers. For the variables or columns RDW and MW we can conclude the same while for MW (Monthly Wage) could be people that earns a salary above $300k per month. And finaly fot the age column, we observe that the minimum age is 0, so this is not an expected age, since the majority age in country BR is 18 years.\n",
    "\n",
    "To deal with the **outliers**, we will use the following rule, if a cell value is above or equal to the 99th percentile, a null value will be assigned, otherwise it does not change, this rule will be applied to UIS, RDW and MW. For age the opposite rule will be applied, but for values less than 18 years."
   ]
  },
  {
   "cell_type": "code",
   "execution_count": 5,
   "id": "218fb309-4dc3-45b8-9534-f22de335f79a",
   "metadata": {},
   "outputs": [
    {
     "data": {
      "text/html": [
       "<div>\n",
       "<style scoped>\n",
       "    .dataframe tbody tr th:only-of-type {\n",
       "        vertical-align: middle;\n",
       "    }\n",
       "\n",
       "    .dataframe tbody tr th {\n",
       "        vertical-align: top;\n",
       "    }\n",
       "\n",
       "    .dataframe thead th {\n",
       "        text-align: right;\n",
       "    }\n",
       "</style>\n",
       "<table border=\"1\" class=\"dataframe\">\n",
       "  <thead>\n",
       "    <tr style=\"text-align: right;\">\n",
       "      <th></th>\n",
       "      <th>UIS</th>\n",
       "      <th>RDW</th>\n",
       "      <th>MW</th>\n",
       "    </tr>\n",
       "  </thead>\n",
       "  <tbody>\n",
       "    <tr>\n",
       "      <th>count</th>\n",
       "      <td>107548.00</td>\n",
       "      <td>84255.00</td>\n",
       "      <td>83825.00</td>\n",
       "    </tr>\n",
       "    <tr>\n",
       "      <th>mean</th>\n",
       "      <td>0.30</td>\n",
       "      <td>0.30</td>\n",
       "      <td>5668.03</td>\n",
       "    </tr>\n",
       "    <tr>\n",
       "      <th>std</th>\n",
       "      <td>0.34</td>\n",
       "      <td>0.23</td>\n",
       "      <td>3164.74</td>\n",
       "    </tr>\n",
       "    <tr>\n",
       "      <th>min</th>\n",
       "      <td>0.00</td>\n",
       "      <td>0.00</td>\n",
       "      <td>0.00</td>\n",
       "    </tr>\n",
       "    <tr>\n",
       "      <th>5%</th>\n",
       "      <td>0.00</td>\n",
       "      <td>0.00</td>\n",
       "      <td>1208.20</td>\n",
       "    </tr>\n",
       "    <tr>\n",
       "      <th>25%</th>\n",
       "      <td>0.03</td>\n",
       "      <td>0.13</td>\n",
       "      <td>3300.00</td>\n",
       "    </tr>\n",
       "    <tr>\n",
       "      <th>50%</th>\n",
       "      <td>0.15</td>\n",
       "      <td>0.27</td>\n",
       "      <td>5133.00</td>\n",
       "    </tr>\n",
       "    <tr>\n",
       "      <th>75%</th>\n",
       "      <td>0.52</td>\n",
       "      <td>0.44</td>\n",
       "      <td>7689.00</td>\n",
       "    </tr>\n",
       "    <tr>\n",
       "      <th>95%</th>\n",
       "      <td>1.00</td>\n",
       "      <td>0.74</td>\n",
       "      <td>11781.80</td>\n",
       "    </tr>\n",
       "    <tr>\n",
       "      <th>99%</th>\n",
       "      <td>1.00</td>\n",
       "      <td>0.94</td>\n",
       "      <td>13750.00</td>\n",
       "    </tr>\n",
       "    <tr>\n",
       "      <th>max</th>\n",
       "      <td>1.00</td>\n",
       "      <td>1.00</td>\n",
       "      <td>14593.00</td>\n",
       "    </tr>\n",
       "  </tbody>\n",
       "</table>\n",
       "</div>"
      ],
      "text/plain": [
       "             UIS       RDW        MW\n",
       "count  107548.00  84255.00  83825.00\n",
       "mean        0.30      0.30   5668.03\n",
       "std         0.34      0.23   3164.74\n",
       "min         0.00      0.00      0.00\n",
       "5%          0.00      0.00   1208.20\n",
       "25%         0.03      0.13   3300.00\n",
       "50%         0.15      0.27   5133.00\n",
       "75%         0.52      0.44   7689.00\n",
       "95%         1.00      0.74  11781.80\n",
       "99%         1.00      0.94  13750.00\n",
       "max         1.00      1.00  14593.00"
      ]
     },
     "execution_count": 5,
     "metadata": {},
     "output_type": "execute_result"
    }
   ],
   "source": [
    "# Dealing with outliers in continuous\n",
    "cols = ['UIS','RDW','MW']\n",
    "vals = [1,1,14593.40]\n",
    "for col, val in zip(cols, vals):\n",
    "    df.loc[df[col] >  val, col] = np.nan\n",
    "df.loc[df['age'] < 18, 'age'] = np.nan\n",
    "\n",
    "custom_quantiles = [ 0.05, 0.25, 0.75, 0.95, 0.99 ]\n",
    "df[cols].describe(percentiles=custom_quantiles).round(2)"
   ]
  },
  {
   "cell_type": "markdown",
   "id": "3558be43-e027-42bb-98a9-e862ca9881de",
   "metadata": {},
   "source": [
    "In table above, the summary of the continuous variables after the treatment is shown. Comparing to the previous one, we can see that the appointed variables still present the same pattern of assimetry toward low values, and the age still maintains it simetric pattern. But now with expected values."
   ]
  },
  {
   "cell_type": "code",
   "execution_count": 6,
   "id": "26418079-c269-4062-9636-117d75f39525",
   "metadata": {},
   "outputs": [
    {
     "data": {
      "image/png": "[encoded data removed]",
      "text/plain": [
       "<Figure size 864x216 with 4 Axes>"
      ]
     },
     "metadata": {},
     "output_type": "display_data"
    }
   ],
   "source": [
    "sns.set(style=\"whitegrid\")\n",
    "\n",
    "# Set the style for the plots (optional)\n",
    "sns.set(style=\"whitegrid\")\n",
    "\n",
    "# Create subplots with 4 columns per row\n",
    "fig, axes = plt.subplots(nrows=1, ncols=4, figsize=(12, 3))\n",
    "\n",
    "# Flatten the axes for easier iteration\n",
    "axes = axes.flatten()\n",
    "\n",
    "cols = ['UIS','age','RDW','MW']\n",
    "# Iterate through each column and plot the PDF\n",
    "for i, col in enumerate(cols):\n",
    "    #sns.kdeplot(data=df[column], ax=axes[i], fill=True)\n",
    "    sns.histplot(data=df, x=col, stat=\"density\", bins = 30, kde=True, ax=axes[i], fill=True)\n",
    "    axes[i].set_title(f'Density of {col}')\n",
    "    \n",
    "# Adjust layout\n",
    "plt.tight_layout()\n",
    "\n",
    "# Show the plots\n",
    "plt.show()"
   ]
  },
  {
   "cell_type": "markdown",
   "id": "05829e48-99f5-4afd-a9e6-b84e3225b80c",
   "metadata": {},
   "source": [
    "Above, histograms showing the probability density function of continuous variables is depicted. As we can see the patterns analized previously remain the same. However, in the variable age we can see a slight assimetry toward lower values and even two modes. "
   ]
  },
  {
   "cell_type": "markdown",
   "id": "e3375072-bcfb-41b4-a837-48343f90e4e3",
   "metadata": {},
   "source": [
    "\n",
    "### 2.2.3. Ordinal Categorical Variables"
   ]
  },
  {
   "cell_type": "code",
   "execution_count": 7,
   "id": "9a0665e3-6c0a-4d67-86e8-c82f5f396892",
   "metadata": {},
   "outputs": [
    {
     "data": {
      "text/html": [
       "<div>\n",
       "<style scoped>\n",
       "    .dataframe tbody tr th:only-of-type {\n",
       "        vertical-align: middle;\n",
       "    }\n",
       "\n",
       "    .dataframe tbody tr th {\n",
       "        vertical-align: top;\n",
       "    }\n",
       "\n",
       "    .dataframe thead th {\n",
       "        text-align: right;\n",
       "    }\n",
       "</style>\n",
       "<table border=\"1\" class=\"dataframe\">\n",
       "  <thead>\n",
       "    <tr style=\"text-align: right;\">\n",
       "      <th></th>\n",
       "      <th>NTD3059</th>\n",
       "      <th>NTD6089</th>\n",
       "      <th>NTDGT90</th>\n",
       "      <th>NB</th>\n",
       "      <th>ND</th>\n",
       "      <th>OCL</th>\n",
       "    </tr>\n",
       "  </thead>\n",
       "  <tbody>\n",
       "    <tr>\n",
       "      <th>count</th>\n",
       "      <td>110000</td>\n",
       "      <td>110000</td>\n",
       "      <td>110000</td>\n",
       "      <td>110000</td>\n",
       "      <td>107122.0</td>\n",
       "      <td>110000</td>\n",
       "    </tr>\n",
       "    <tr>\n",
       "      <th>unique</th>\n",
       "      <td>15</td>\n",
       "      <td>13</td>\n",
       "      <td>18</td>\n",
       "      <td>28</td>\n",
       "      <td>12.0</td>\n",
       "      <td>57</td>\n",
       "    </tr>\n",
       "    <tr>\n",
       "      <th>top</th>\n",
       "      <td>0</td>\n",
       "      <td>0</td>\n",
       "      <td>0</td>\n",
       "      <td>0</td>\n",
       "      <td>0.0</td>\n",
       "      <td>6</td>\n",
       "    </tr>\n",
       "    <tr>\n",
       "      <th>freq</th>\n",
       "      <td>92469</td>\n",
       "      <td>104466</td>\n",
       "      <td>103836</td>\n",
       "      <td>41159</td>\n",
       "      <td>63652.0</td>\n",
       "      <td>9988</td>\n",
       "    </tr>\n",
       "  </tbody>\n",
       "</table>\n",
       "</div>"
      ],
      "text/plain": [
       "        NTD3059  NTD6089  NTDGT90      NB        ND     OCL\n",
       "count    110000   110000   110000  110000  107122.0  110000\n",
       "unique       15       13       18      28      12.0      57\n",
       "top           0        0        0       0       0.0       6\n",
       "freq      92469   104466   103836   41159   63652.0    9988"
      ]
     },
     "execution_count": 7,
     "metadata": {},
     "output_type": "execute_result"
    }
   ],
   "source": [
    "categorical = ['NTD3059','NTD6089','NTDGT90','NB','ND','OCL']\n",
    "df[categorical].describe()"
   ]
  },
  {
   "cell_type": "markdown",
   "id": "7f613172-ebb0-422d-af95-961ee4682464",
   "metadata": {},
   "source": [
    "For ordinal categorical variables, we can see that for variables related to existence of default in n days (NTD...), the frequency of the top category is above 90%. For NB, ND and OCL, the distribution seems more equilibrated. Once, this variables are ordinal we can use histograms to see the individual distribution of each variable.\n",
    "\n",
    "First, let's analyze the variables related to the existence of previous default (NTD3059, NTD6089 and NTDGT90)."
   ]
  },
  {
   "cell_type": "code",
   "execution_count": 8,
   "id": "b8242f05-b73a-40a4-bd67-a6c3f6017bdd",
   "metadata": {},
   "outputs": [
    {
     "data": {
      "image/png": "[encoded data removed]",
      "text/plain": [
       "<Figure size 864x216 with 3 Axes>"
      ]
     },
     "metadata": {},
     "output_type": "display_data"
    }
   ],
   "source": [
    "sns.set(style=\"whitegrid\")\n",
    "\n",
    "# Set the style for the plots (optional)\n",
    "sns.set(style=\"whitegrid\")\n",
    "\n",
    "# Create subplots with 4 columns per row\n",
    "fig, axes = plt.subplots(nrows=1, ncols=3, figsize=(12, 3))\n",
    "\n",
    "# Flatten the axes for easier iteration\n",
    "axes = axes.flatten()\n",
    "\n",
    "cols =['NTD3059', 'NTD6089', 'NTDGT90']\n",
    "# Iterate through each column and plot the PDF\n",
    "for i, col in enumerate(cols):\n",
    "    sns.histplot(data=df, x=col, stat=\"density\", ax=axes[i], fill=True)\n",
    "    axes[i].set_title(f'Density of {col}')\n",
    "    axes[i].set_xlabel('Number of Previous Defaults')\n",
    "    axes[i].set_xlim([0,6])\n",
    "    \n",
    "# Adjust layout\n",
    "plt.tight_layout()\n",
    "\n",
    "# Show the plots\n",
    "plt.show()"
   ]
  },
  {
   "cell_type": "markdown",
   "id": "e5e3681d-e1b5-4baf-ac0f-65aaaa3d4a2e",
   "metadata": {},
   "source": [
    "As we can see the expected values for this variables is values below 5 defaults. Values above this, can be considered as outliers for these kind of variables.\n",
    "\n",
    "Now, let us examine the other ordinal variables."
   ]
  },
  {
   "cell_type": "code",
   "execution_count": 9,
   "id": "45cadcdf-a4d6-457a-b032-0554489e9e1a",
   "metadata": {},
   "outputs": [
    {
     "data": {
      "image/png": "[encoded data removed]",
      "text/plain": [
       "<Figure size 864x216 with 3 Axes>"
      ]
     },
     "metadata": {},
     "output_type": "display_data"
    }
   ],
   "source": [
    "sns.set(style=\"whitegrid\")\n",
    "\n",
    "# Set the style for the plots (optional)\n",
    "sns.set(style=\"whitegrid\")\n",
    "\n",
    "# Create subplots with 4 columns per row\n",
    "fig, axes = plt.subplots(nrows=1, ncols=3, figsize=(12, 3))\n",
    "\n",
    "# Flatten the axes for easier iteration\n",
    "axes = axes.flatten()\n",
    "\n",
    "cols =['NB', 'ND', 'OCL']\n",
    "# Iterate through each column and plot the PDF\n",
    "for i, col in enumerate(cols):\n",
    "    sns.histplot(data=df, x=col,  stat=\"density\", ax=axes[i], fill=True)\n",
    "    axes[i].set_title(f'Density of {col}')\n",
    "    #axes[i].set_xlabel('Number of Previous Defaults')\n",
    "    lims = [np.nanmin(np.array(df[col])), np.nanquantile(np.array(df[col]),0.999) ]\n",
    "    axes[i].set_xlim(lims)\n",
    "    \n",
    "# Adjust layout\n",
    "plt.tight_layout()\n",
    "\n",
    "# Show the plots\n",
    "plt.show()"
   ]
  },
  {
   "cell_type": "markdown",
   "id": "b13bcb9c-b626-4839-b101-320aea31aae5",
   "metadata": {},
   "source": [
    "As we can see the expected values for these variables are in general values bellow 8 counts for NB and ND and for OCL bellow 30, once these histograms were limited by their respective 99th quantile in x axis. \n",
    "\n",
    "So we will only retain the expected values, values above the thresholds indicated will be considered outliers and will be set to nan."
   ]
  },
  {
   "cell_type": "code",
   "execution_count": 10,
   "id": "a0b5768b-2d72-4bc7-9e5a-d72e390d1815",
   "metadata": {},
   "outputs": [
    {
     "data": {
      "text/html": [
       "<div>\n",
       "<style scoped>\n",
       "    .dataframe tbody tr th:only-of-type {\n",
       "        vertical-align: middle;\n",
       "    }\n",
       "\n",
       "    .dataframe tbody tr th {\n",
       "        vertical-align: top;\n",
       "    }\n",
       "\n",
       "    .dataframe thead th {\n",
       "        text-align: right;\n",
       "    }\n",
       "</style>\n",
       "<table border=\"1\" class=\"dataframe\">\n",
       "  <thead>\n",
       "    <tr style=\"text-align: right;\">\n",
       "      <th></th>\n",
       "      <th>NTD3059</th>\n",
       "      <th>NTD6089</th>\n",
       "      <th>NTDGT90</th>\n",
       "      <th>NB</th>\n",
       "      <th>ND</th>\n",
       "      <th>OCL</th>\n",
       "    </tr>\n",
       "  </thead>\n",
       "  <tbody>\n",
       "    <tr>\n",
       "      <th>count</th>\n",
       "      <td>109383.000000</td>\n",
       "      <td>109749.000000</td>\n",
       "      <td>109572.000000</td>\n",
       "      <td>109652.000000</td>\n",
       "      <td>107061.000000</td>\n",
       "      <td>109754.000000</td>\n",
       "    </tr>\n",
       "    <tr>\n",
       "      <th>mean</th>\n",
       "      <td>0.223874</td>\n",
       "      <td>0.061531</td>\n",
       "      <td>0.077392</td>\n",
       "      <td>0.993270</td>\n",
       "      <td>0.753505</td>\n",
       "      <td>8.384104</td>\n",
       "    </tr>\n",
       "    <tr>\n",
       "      <th>std</th>\n",
       "      <td>0.604783</td>\n",
       "      <td>0.303715</td>\n",
       "      <td>0.376206</td>\n",
       "      <td>1.006862</td>\n",
       "      <td>1.101631</td>\n",
       "      <td>4.969428</td>\n",
       "    </tr>\n",
       "    <tr>\n",
       "      <th>min</th>\n",
       "      <td>0.000000</td>\n",
       "      <td>0.000000</td>\n",
       "      <td>0.000000</td>\n",
       "      <td>0.000000</td>\n",
       "      <td>0.000000</td>\n",
       "      <td>0.000000</td>\n",
       "    </tr>\n",
       "    <tr>\n",
       "      <th>25%</th>\n",
       "      <td>0.000000</td>\n",
       "      <td>0.000000</td>\n",
       "      <td>0.000000</td>\n",
       "      <td>0.000000</td>\n",
       "      <td>0.000000</td>\n",
       "      <td>5.000000</td>\n",
       "    </tr>\n",
       "    <tr>\n",
       "      <th>50%</th>\n",
       "      <td>0.000000</td>\n",
       "      <td>0.000000</td>\n",
       "      <td>0.000000</td>\n",
       "      <td>1.000000</td>\n",
       "      <td>0.000000</td>\n",
       "      <td>8.000000</td>\n",
       "    </tr>\n",
       "    <tr>\n",
       "      <th>75%</th>\n",
       "      <td>0.000000</td>\n",
       "      <td>0.000000</td>\n",
       "      <td>0.000000</td>\n",
       "      <td>2.000000</td>\n",
       "      <td>1.000000</td>\n",
       "      <td>11.000000</td>\n",
       "    </tr>\n",
       "    <tr>\n",
       "      <th>max</th>\n",
       "      <td>4.000000</td>\n",
       "      <td>4.000000</td>\n",
       "      <td>4.000000</td>\n",
       "      <td>6.000000</td>\n",
       "      <td>6.000000</td>\n",
       "      <td>30.000000</td>\n",
       "    </tr>\n",
       "  </tbody>\n",
       "</table>\n",
       "</div>"
      ],
      "text/plain": [
       "             NTD3059        NTD6089        NTDGT90             NB  \\\n",
       "count  109383.000000  109749.000000  109572.000000  109652.000000   \n",
       "mean        0.223874       0.061531       0.077392       0.993270   \n",
       "std         0.604783       0.303715       0.376206       1.006862   \n",
       "min         0.000000       0.000000       0.000000       0.000000   \n",
       "25%         0.000000       0.000000       0.000000       0.000000   \n",
       "50%         0.000000       0.000000       0.000000       1.000000   \n",
       "75%         0.000000       0.000000       0.000000       2.000000   \n",
       "max         4.000000       4.000000       4.000000       6.000000   \n",
       "\n",
       "                  ND            OCL  \n",
       "count  107061.000000  109754.000000  \n",
       "mean        0.753505       8.384104  \n",
       "std         1.101631       4.969428  \n",
       "min         0.000000       0.000000  \n",
       "25%         0.000000       5.000000  \n",
       "50%         0.000000       8.000000  \n",
       "75%         1.000000      11.000000  \n",
       "max         6.000000      30.000000  "
      ]
     },
     "execution_count": 10,
     "metadata": {},
     "output_type": "execute_result"
    }
   ],
   "source": [
    "# Dealing with outliers in ordinal data\n",
    "categorical = ['NTD3059','NTD6089','NTDGT90','NB','ND','OCL']\n",
    "df = df.assign(**{col: df[col].astype('float') for col in categorical})\n",
    "\n",
    "vals = [4,4,4, 6,6,30]\n",
    "for col, val in zip(categorical, vals):\n",
    "    df.loc[df[col] >  val, col] = np.nan\n",
    "df[categorical].describe()"
   ]
  },
  {
   "cell_type": "markdown",
   "id": "1cda9052-a1ca-4a04-a85c-3c3abe1b7ae6",
   "metadata": {},
   "source": [
    "## 2.3. Conclusion - Univariate Analysis"
   ]
  },
  {
   "cell_type": "code",
   "execution_count": 11,
   "id": "0bc9253d-ad07-4330-9581-ee6b056ac59a",
   "metadata": {},
   "outputs": [
    {
     "data": {
      "text/html": [
       "<div>\n",
       "<style scoped>\n",
       "    .dataframe tbody tr th:only-of-type {\n",
       "        vertical-align: middle;\n",
       "    }\n",
       "\n",
       "    .dataframe tbody tr th {\n",
       "        vertical-align: top;\n",
       "    }\n",
       "\n",
       "    .dataframe thead th {\n",
       "        text-align: right;\n",
       "    }\n",
       "</style>\n",
       "<table border=\"1\" class=\"dataframe\">\n",
       "  <thead>\n",
       "    <tr style=\"text-align: right;\">\n",
       "      <th></th>\n",
       "      <th>Default</th>\n",
       "      <th>UIS</th>\n",
       "      <th>age</th>\n",
       "      <th>NTD3059</th>\n",
       "      <th>RDW</th>\n",
       "      <th>MW</th>\n",
       "      <th>OCL</th>\n",
       "      <th>NTDGT90</th>\n",
       "      <th>NB</th>\n",
       "      <th>NTD6089</th>\n",
       "      <th>ND</th>\n",
       "    </tr>\n",
       "  </thead>\n",
       "  <tbody>\n",
       "    <tr>\n",
       "      <th>0</th>\n",
       "      <td>0.0</td>\n",
       "      <td>0.022291</td>\n",
       "      <td>0.000009</td>\n",
       "      <td>0.005609</td>\n",
       "      <td>0.234045</td>\n",
       "      <td>0.237955</td>\n",
       "      <td>0.002236</td>\n",
       "      <td>0.003891</td>\n",
       "      <td>0.003164</td>\n",
       "      <td>0.002282</td>\n",
       "      <td>0.026718</td>\n",
       "    </tr>\n",
       "  </tbody>\n",
       "</table>\n",
       "</div>"
      ],
      "text/plain": [
       "   Default       UIS       age   NTD3059       RDW        MW       OCL  \\\n",
       "0      0.0  0.022291  0.000009  0.005609  0.234045  0.237955  0.002236   \n",
       "\n",
       "    NTDGT90        NB   NTD6089        ND  \n",
       "0  0.003891  0.003164  0.002282  0.026718  "
      ]
     },
     "execution_count": 11,
     "metadata": {},
     "output_type": "execute_result"
    }
   ],
   "source": [
    "null_prop = df.isnull().mean()\n",
    "pd.DataFrame(null_prop).transpose()"
   ]
  },
  {
   "cell_type": "markdown",
   "id": "17f20363-8d19-4107-9a1c-a16a3bd1d725",
   "metadata": {},
   "source": [
    "The table above shows the proportion of nulls in the data set per column, as we can see the greater proportion of null is in the column MW (Monthly Wage), representing about 20% of the rows.\n",
    "\n",
    "All columns were analyzed and their respective probability density distribution were accessed as well. We can see that most of distribution do not follow a normal distribution, except the variable \"age\", so transformations such as log transformations can be applied in future analysis like regression analysis."
   ]
  },
  {
   "cell_type": "markdown",
   "id": "e0e3d747-6014-4b6d-8792-cba797e4330e",
   "metadata": {},
   "source": [
    "---"
   ]
  },
  {
   "cell_type": "markdown",
   "id": "284d1a65-272a-4a64-90be-704efc68f2da",
   "metadata": {},
   "source": [
    "# 3. Multivariate Analysis"
   ]
  },
  {
   "cell_type": "markdown",
   "id": "3ceaf2a9-b8be-48b9-9ebe-acb0c6b23223",
   "metadata": {},
   "source": [
    "The multivariate analysis is divided into two kinds, target-features analysis and features-features analysis. In target-features analysis we will analyze the relationships between the target (Default) to the other variables and features-features the relationship two by two between features."
   ]
  },
  {
   "cell_type": "markdown",
   "id": "9950799b-6a16-47fc-8fbe-6d4998bcfc02",
   "metadata": {},
   "source": [
    "## 3.1. Target - Features"
   ]
  },
  {
   "cell_type": "code",
   "execution_count": 12,
   "id": "829a2122-51c1-4ae2-b0ed-d9eed66f0a86",
   "metadata": {},
   "outputs": [],
   "source": [
    "# Assign Categorical type to Default target\n",
    "categorical = ['Default','NTD3059','NTD6089','NTDGT90','NB','ND','OCL']\n",
    "df = df.assign(**{col: df[col].astype('float') for col in categorical})"
   ]
  },
  {
   "cell_type": "code",
   "execution_count": 16,
   "id": "d338f7aa-2f11-4274-8fb8-d999fd4614cc",
   "metadata": {},
   "outputs": [
    {
     "data": {
      "image/png": "[encoded data removed]",
      "text/plain": [
       "<Figure size 864x432 with 8 Axes>"
      ]
     },
     "metadata": {},
     "output_type": "display_data"
    }
   ],
   "source": [
    "sns.set(style=\"whitegrid\")\n",
    "# Set the style for the plots (optional)\n",
    "sns.set(style=\"whitegrid\")\n",
    "\n",
    "# Create subplots with 4 columns per row\n",
    "fig, axes = plt.subplots(nrows=2, ncols=4, figsize=(12, 6))\n",
    "\n",
    "# Flatten the axes for easier iteration\n",
    "axes = axes.flatten()\n",
    "\n",
    "cols = ['UIS','age','RDW','MW']\n",
    "# Iterate through each column and plot the PDF\n",
    "for i, col in enumerate(cols):\n",
    "    #sns.kdeplot(data=df[column], ax=axes[i], fill=True)\n",
    "    sns.histplot(data=df, x=col, hue ='Default', common_norm=False, stat=\"density\", bins = 30, kde=True, ax=axes[i], fill=True)\n",
    "    axes[i].set_title(f'Density of {col}')\n",
    "    \n",
    "    sns.boxplot(data=df,x='Default', y=col, hue = 'Default', ax=axes[i+4])\n",
    "    \n",
    "# Adjust layout\n",
    "plt.tight_layout()\n",
    "\n",
    "# Show the plots\n",
    "plt.show()"
   ]
  },
  {
   "cell_type": "markdown",
   "id": "fd48271d-99b7-4fad-a4cd-bd318fdf1830",
   "metadata": {},
   "source": [
    "Above a figure showing the distribution (top pannel) of continuous variables of clients that is in default (1) and no default (0) are provided with a box plot (bottom pannel). We can see that for UIS and RDW, default clients tend to have higher values than non default clients, standing out the variable UIS where the diferences are more enhanced. For the age, and MW, we can see the opposite pattern, indicating that younger clients and clients earning lower wages tend to default more than older and higher wage clients. "
   ]
  },
  {
   "cell_type": "code",
   "execution_count": 20,
   "id": "eb307347-c2a0-4895-90ab-58db8a7800cf",
   "metadata": {},
   "outputs": [
    {
     "data": {
      "image/png": "[encoded data removed]",
      "text/plain": [
       "<Figure size 1296x432 with 12 Axes>"
      ]
     },
     "metadata": {},
     "output_type": "display_data"
    }
   ],
   "source": [
    "sns.set(style=\"whitegrid\")\n",
    "# Set the style for the plots (optional)\n",
    "sns.set(style=\"whitegrid\")\n",
    "\n",
    "# Create subplots with 4 columns per row\n",
    "fig, axes = plt.subplots(nrows=2, ncols=6, figsize=(18, 6))\n",
    "\n",
    "# Flatten the axes for easier iteration\n",
    "axes = axes.flatten()\n",
    "\n",
    "cols = ['NTD3059','NTD6089','NTDGT90','NB','ND','OCL']\n",
    "# Iterate through each column and plot the PDF\n",
    "for i, col in enumerate(cols):\n",
    "    #sns.kdeplot(data=df[column], ax=axes[i], fill=True)\n",
    "    sns.histplot(data=df, x=col, hue ='Default', common_norm=False, stat=\"density\", ax=axes[i], fill=True)\n",
    "    axes[i].set_title(f'Density of {col}')\n",
    "    lims = [np.nanmin(np.array(df[col])), np.nanquantile(np.array(df[col]),0.999) ]\n",
    "    axes[i].set_xlim(lims)\n",
    "    \n",
    "    sns.boxplot(data=df,x='Default', y=col, hue = 'Default', ax=axes[i+6])\n",
    "    \n",
    "# Adjust layout\n",
    "plt.tight_layout()\n",
    "\n",
    "# Show the plots\n",
    "plt.show()"
   ]
  },
  {
   "cell_type": "markdown",
   "id": "8cd8d63c-45e8-441b-a818-41169d1456bf",
   "metadata": {},
   "source": [
    "The pannel above represents the distribution of the ordinal variables for default and non default clients. We can see that the variables NB, ND and OCL do not distinguish well the target. However, the variables related to previous default present that clients who default previously have a greater tendency to default, but, still these variables do not distinguish well the target as we can see in their respective PDF distribution comparison, most of default clients do not default previously."
   ]
  },
  {
   "cell_type": "markdown",
   "id": "c9dc80ed-a7fc-4a34-ba35-1dbd36cff266",
   "metadata": {},
   "source": [
    "## 3.2. Features - Features"
   ]
  },
  {
   "cell_type": "code",
   "execution_count": 80,
   "id": "e711463e-1c78-4a53-9f42-8d927ad0ac4e",
   "metadata": {},
   "outputs": [
    {
     "data": {
      "image/png": "[encoded data removed]",
      "text/plain": [
       "<Figure size 1440x288 with 6 Axes>"
      ]
     },
     "metadata": {},
     "output_type": "display_data"
    }
   ],
   "source": [
    "fig, axes = plt.subplots(nrows=1, ncols=3, figsize=(20, 4))\n",
    "heatmap = sns.heatmap(df[['UIS','age','RDW','MW']].corr().round(1), vmin=-1, vmax=1, annot=True, cmap='BrBG', ax = axes[0])\n",
    "heatmap.set_title('Pearson Correlation Heatmap', fontdict={'fontsize':18}, pad=12)\n",
    "\n",
    "# Spearman Rank correlation\n",
    "spearman = df[['NTD3059','NTD6089','NTDGT90','NB','ND','OCL']].corr('spearman')\n",
    "spm = sns.heatmap(spearman.round(1), vmin=-1, vmax=1, annot=True, cmap='BrBG', ax = axes[1])\n",
    "spm.set_title('Spearman Correlation Heatmap', fontdict={'fontsize':18}, pad=12)\n",
    "\n",
    "# Kendal's tau correlation\n",
    "vrs = ['UIS','age','RDW','MW','NTD3059','NTD6089','NTDGT90','NB','ND','OCL']\n",
    "kend = df[vrs].corr('kendall')[0:4][['NTD3059','NTD6089','NTDGT90','NB','ND','OCL']]\n",
    "knd = sns.heatmap(kend.round(1), vmin=-1, vmax=1, annot=True, cmap='BrBG', ax = axes[2])\n",
    "knd.set_title('Kendall Correlation Heatmap', fontdict={'fontsize':18}, pad=12)\n",
    "\n",
    "# plt.savefig('heatmap.png', dpi=300, bbox_inches='tight')\n",
    "plt.show()"
   ]
  },
  {
   "cell_type": "markdown",
   "id": "0fb7c8fc-e622-496e-89c5-6647dfd27a91",
   "metadata": {},
   "source": [
    "Correlation analysis is performed above, Pearson correlation for continuous-continuos pairs, Spearman rank correlation for ordinal-ordinal pairs and Kendall's tau correlation between ordinal-continuous pairs. No stronger correlation is found between the pairs analyzed, so we can assume independence among the variables."
   ]
  },
  {
   "cell_type": "markdown",
   "id": "0b0b514e-fbb7-4ec9-80c9-cd2375e131ab",
   "metadata": {},
   "source": [
    "## 3.3. Conclusion - Multivariate Analysis"
   ]
  },
  {
   "cell_type": "markdown",
   "id": "aa058243-5707-46f2-9845-e34c3106a5c2",
   "metadata": {},
   "source": [
    "Comparing the indepent variables or features to the dependent variable or target (Default), we found the following:\n",
    "\n",
    "* For most of variables there is no a clear contrast between the default and non default clients, except for the variable UIS;\n",
    "* Default clients tend to have more than one previous default;\n",
    "* Default clients tend to be younger and earns less than non default clients.\n",
    "\n",
    "And between the dependent variables or features, we found:\n",
    "\n",
    "* Correlation analysis accounting the variables types were performed and there were not found stronger relationships among the pairs of dependent variables."
   ]
  },
  {
   "cell_type": "markdown",
   "id": "2f144baf-a0dc-4c41-9d43-b3d917874412",
   "metadata": {},
   "source": [
    "---"
   ]
  },
  {
   "cell_type": "markdown",
   "id": "ed209ffd-4579-4fde-8de0-45db0a2d25a0",
   "metadata": {},
   "source": [
    "# 4 - Conclusion and Final Data Frame"
   ]
  },
  {
   "cell_type": "markdown",
   "id": "72a2e422-ee0a-499b-8d1c-8bc4ebd4901c",
   "metadata": {},
   "source": [
    "## 4.1. Removing null rows and recording the final dataframe"
   ]
  },
  {
   "cell_type": "code",
   "execution_count": 108,
   "id": "efc7191a-5581-4c7e-bc49-5cfe26793ab1",
   "metadata": {},
   "outputs": [
    {
     "name": "stdout",
     "output_type": "stream",
     "text": [
      "----------------------------------------------------\n",
      "Number of lines before removing nulls 110000\n",
      "Number of lines after removing nulls 75904\n",
      "31.0% were removed\n",
      "----------------------------------------------------\n",
      "\n",
      "----------------------------------------------------\n",
      "Proportion of Defaults before removing nulls: Default    0.067\n",
      "dtype: float64\n",
      "Proportion of Defaults after removing nulls:  Default    0.058\n",
      "dtype: float64\n",
      "----------------------------------------------------\n",
      "\n"
     ]
    }
   ],
   "source": [
    "df_final = df.dropna()\n",
    "print('----------------------------------------------------')\n",
    "print(f'Number of lines before removing nulls {len(df)}\\nNumber of lines after removing nulls {len(df_final)}')\n",
    "print(f'{round(1-len(df_final)/len(df),2)*100}% were removed')\n",
    "print('----------------------------------------------------\\n')\n",
    "\n",
    "r1, r2 = round(df[['Default']].mean(),3), round(df_final[['Default']].mean(),3)\n",
    "print('----------------------------------------------------')\n",
    "print(f'Proportion of Defaults before removing nulls: {r1}')\n",
    "print(f'Proportion of Defaults after removing nulls:  {r2}')\n",
    "print('----------------------------------------------------\\n')"
   ]
  },
  {
   "cell_type": "code",
   "execution_count": 98,
   "id": "0e737270-58f0-4471-bdc5-2543b6c8ce42",
   "metadata": {},
   "outputs": [
    {
     "data": {
      "text/html": [
       "<div>\n",
       "<style scoped>\n",
       "    .dataframe tbody tr th:only-of-type {\n",
       "        vertical-align: middle;\n",
       "    }\n",
       "\n",
       "    .dataframe tbody tr th {\n",
       "        vertical-align: top;\n",
       "    }\n",
       "\n",
       "    .dataframe thead th {\n",
       "        text-align: right;\n",
       "    }\n",
       "</style>\n",
       "<table border=\"1\" class=\"dataframe\">\n",
       "  <thead>\n",
       "    <tr style=\"text-align: right;\">\n",
       "      <th></th>\n",
       "      <th>Default</th>\n",
       "      <th>UIS</th>\n",
       "      <th>age</th>\n",
       "      <th>NTD3059</th>\n",
       "      <th>RDW</th>\n",
       "      <th>MW</th>\n",
       "      <th>OCL</th>\n",
       "      <th>NTDGT90</th>\n",
       "      <th>NB</th>\n",
       "      <th>NTD6089</th>\n",
       "      <th>ND</th>\n",
       "    </tr>\n",
       "  </thead>\n",
       "  <tbody>\n",
       "    <tr>\n",
       "      <th>0</th>\n",
       "      <td>1.0</td>\n",
       "      <td>0.77</td>\n",
       "      <td>45.0</td>\n",
       "      <td>2.0</td>\n",
       "      <td>0.80</td>\n",
       "      <td>9120.0</td>\n",
       "      <td>13.0</td>\n",
       "      <td>0.0</td>\n",
       "      <td>6.0</td>\n",
       "      <td>0.0</td>\n",
       "      <td>2.0</td>\n",
       "    </tr>\n",
       "    <tr>\n",
       "      <th>1</th>\n",
       "      <td>0.0</td>\n",
       "      <td>0.96</td>\n",
       "      <td>40.0</td>\n",
       "      <td>0.0</td>\n",
       "      <td>0.12</td>\n",
       "      <td>2600.0</td>\n",
       "      <td>4.0</td>\n",
       "      <td>0.0</td>\n",
       "      <td>0.0</td>\n",
       "      <td>0.0</td>\n",
       "      <td>1.0</td>\n",
       "    </tr>\n",
       "    <tr>\n",
       "      <th>2</th>\n",
       "      <td>0.0</td>\n",
       "      <td>0.66</td>\n",
       "      <td>38.0</td>\n",
       "      <td>1.0</td>\n",
       "      <td>0.09</td>\n",
       "      <td>3042.0</td>\n",
       "      <td>2.0</td>\n",
       "      <td>1.0</td>\n",
       "      <td>0.0</td>\n",
       "      <td>0.0</td>\n",
       "      <td>0.0</td>\n",
       "    </tr>\n",
       "    <tr>\n",
       "      <th>3</th>\n",
       "      <td>0.0</td>\n",
       "      <td>0.23</td>\n",
       "      <td>30.0</td>\n",
       "      <td>0.0</td>\n",
       "      <td>0.04</td>\n",
       "      <td>3300.0</td>\n",
       "      <td>5.0</td>\n",
       "      <td>0.0</td>\n",
       "      <td>0.0</td>\n",
       "      <td>0.0</td>\n",
       "      <td>0.0</td>\n",
       "    </tr>\n",
       "    <tr>\n",
       "      <th>5</th>\n",
       "      <td>0.0</td>\n",
       "      <td>0.21</td>\n",
       "      <td>74.0</td>\n",
       "      <td>0.0</td>\n",
       "      <td>0.38</td>\n",
       "      <td>3500.0</td>\n",
       "      <td>3.0</td>\n",
       "      <td>0.0</td>\n",
       "      <td>1.0</td>\n",
       "      <td>0.0</td>\n",
       "      <td>1.0</td>\n",
       "    </tr>\n",
       "  </tbody>\n",
       "</table>\n",
       "</div>"
      ],
      "text/plain": [
       "   Default   UIS   age  NTD3059   RDW      MW   OCL  NTDGT90   NB  NTD6089  \\\n",
       "0      1.0  0.77  45.0      2.0  0.80  9120.0  13.0      0.0  6.0      0.0   \n",
       "1      0.0  0.96  40.0      0.0  0.12  2600.0   4.0      0.0  0.0      0.0   \n",
       "2      0.0  0.66  38.0      1.0  0.09  3042.0   2.0      1.0  0.0      0.0   \n",
       "3      0.0  0.23  30.0      0.0  0.04  3300.0   5.0      0.0  0.0      0.0   \n",
       "5      0.0  0.21  74.0      0.0  0.38  3500.0   3.0      0.0  1.0      0.0   \n",
       "\n",
       "    ND  \n",
       "0  2.0  \n",
       "1  1.0  \n",
       "2  0.0  \n",
       "3  0.0  \n",
       "5  1.0  "
      ]
     },
     "execution_count": 98,
     "metadata": {},
     "output_type": "execute_result"
    }
   ],
   "source": [
    "df_final.head(5).round(2)"
   ]
  },
  {
   "cell_type": "code",
   "execution_count": 111,
   "id": "dd6d71c9-6faa-48b5-bf8e-1436f21f987b",
   "metadata": {},
   "outputs": [
    {
     "name": "stdout",
     "output_type": "stream",
     "text": [
      "dataframe saved in data\\processed_dataframe.csv\n"
     ]
    }
   ],
   "source": [
    "ofile = os.path.join('data','processed_dataframe.csv')\n",
    "try:\n",
    "    df_final.to_csv(ofile, index=False)\n",
    "    print(f'dataframe saved in {ofile}')\n",
    "except:\n",
    "    print(f'error in saving final dataframe, verify the path {ofile}')"
   ]
  },
  {
   "cell_type": "markdown",
   "id": "c0a287d8-a4ee-48aa-8a15-071f84afa0af",
   "metadata": {},
   "source": [
    "---"
   ]
  }
 ],
 "metadata": {
  "kernelspec": {
   "display_name": "Python 3 (ipykernel)",
   "language": "python",
   "name": "python3"
  },
  "language_info": {
   "codemirror_mode": {
    "name": "ipython",
    "version": 3
   },
   "file_extension": ".py",
   "mimetype": "text/x-python",
   "name": "python",
   "nbconvert_exporter": "python",
   "pygments_lexer": "ipython3",
   "version": "3.9.7"
  }
 },
 "nbformat": 4,
 "nbformat_minor": 5
}
